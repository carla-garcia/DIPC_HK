{
 "cells": [
  {
   "cell_type": "code",
   "execution_count": 32,
   "id": "6a35337e",
   "metadata": {},
   "outputs": [
    {
     "data": {
      "text/plain": [
       "<module 'functions_nHits' from '/home/cgarcia_2002/nHits_count/functions_nHits.py'>"
      ]
     },
     "execution_count": 32,
     "metadata": {},
     "output_type": "execute_result"
    }
   ],
   "source": [
    "import uproot\n",
    "import numpy as np\n",
    "import matplotlib.pyplot as plt\n",
    "import pandas as pd\n",
    "import sys\n",
    "sys.path.append(\"/home/cgarcia_2002/nHits_count\")\n",
    "\n",
    "import functions_nHits  # Importa la función que necesitas\n",
    "import importlib\n",
    "\n",
    "importlib.reload(functions_nHits)"
   ]
  },
  {
   "cell_type": "code",
   "execution_count": 34,
   "id": "23f6d9fe",
   "metadata": {},
   "outputs": [
    {
     "name": "stdout",
     "output_type": "stream",
     "text": [
      "['window_time', 'start_counter', 'run_id', 'sub_run_id', 'spill_counter', 'event_number', 'readout_number', 'trigger_types', 'trigger_times', 'led_gains', 'led_dacsettings', 'led_ids', 'led_card_ids', 'led_slot_numbers', 'led_event_types', 'led_types', 'led_sequence_numbers', 'led_counters', 'hit_mpmt_card_ids', 'hit_pmt_channel_ids', 'hit_mpmt_slot_ids', 'hit_pmt_position_ids', 'hit_pmt_charges', 'hit_pmt_times', 'pmt_waveform_mpmt_card_ids', 'pmt_waveform_pmt_channel_ids', 'pmt_waveform_mpmt_slot_ids', 'pmt_waveform_pmt_position_ids', 'pmt_waveform_times', 'pmt_waveforms', 'beamline_pmt_qdc_charges', 'beamline_pmt_tdc_times', 'beamline_pmt_qdc_ids', 'beamline_pmt_tdc_ids', 'hit_pmt_calibrated_times', 'hit_pmt_has_time_constant']\n"
     ]
    }
   ],
   "source": [
    "root_file_path = \"/data/cgarcia_2002/WCTE/data/2384_calib_time/WCTE_offline_R2384S0P0.root\"\n",
    "#root_file_path = \"/data/cgarcia_2002/WCTE/data/2385_calib_time/WCTE_offline_R2385S0P2.root\"\n",
    "# Open the ROOT file and get the TTree\n",
    "file = uproot.open(root_file_path)\n",
    "\n",
    "tree = file[\"WCTEReadoutWindows\"]  \n",
    "#tree.show()\n",
    "total_events = tree.num_entries\n",
    "\n",
    "print(tree.keys())\n",
    "# Load the branch into a NumPy array\n",
    "\n"
   ]
  },
  {
   "cell_type": "code",
   "execution_count": 3,
   "id": "bbdb5f9e",
   "metadata": {},
   "outputs": [
    {
     "name": "stdout",
     "output_type": "stream",
     "text": [
      "269.999818359375\n",
      "4415\n"
     ]
    }
   ],
   "source": [
    "values = tree[\"hit_pmt_calibrated_times\"].array(library=\"np\")  # e.g., \"eventID\"\n",
    "#print(values) \n",
    "\n",
    "final_elements = []\n",
    "max_list = []\n",
    "for x in values:\n",
    "\n",
    "    final_elements.append(len(x))\n",
    "    max_list.append(x[-1]/1000)  \n",
    "    #print(x[-1])  # Print the calibrated times in seconds, excluding the last element\n",
    "    #print(x[-1])\n",
    "print(max(max_list))  # Print the maximum value in seconds\n",
    "\n",
    "print(max(final_elements))  # Print the maximum number of hits in an event\n",
    "\n"
   ]
  },
  {
   "cell_type": "code",
   "execution_count": 31,
   "id": "1561f61a",
   "metadata": {},
   "outputs": [
    {
     "data": {
      "text/plain": [
       "Text(0.5, 1.0, 'Histogram of Hits per Event')"
      ]
     },
     "execution_count": 31,
     "metadata": {},
     "output_type": "execute_result"
    },
    {
     "data": {
      "image/png": "[encoded data removed]",
      "text/plain": [
       "<Figure size 720x432 with 1 Axes>"
      ]
     },
     "metadata": {
      "needs_background": "light"
     },
     "output_type": "display_data"
    }
   ],
   "source": [
    "\"\"\"plt.figure(figsize=(10, 6))\n",
    "plt.hist(final_elements, range = [0, 5000], bins=50, color='blue')\n",
    "plt.xlabel('Number of Hits per Event')\n",
    "plt.ylabel('Number of Events')\n",
    "plt.title('Distribution of Hits per Event')\"\"\"\n",
    "\n",
    "\n",
    "bin_hist = 7500/50\n",
    "histogram = np.zeros(int(7500/bin_hist))  # Initialize histogram with 200 bins\n",
    "histogram = functions_nHits.count_nHits(np.array(final_elements), bin_hist, histogram)\n",
    "plt.figure(figsize=(10, 6))\n",
    "plt.bar(np.arange(0, 7500, bin_hist), histogram, width = bin_hist, color='blue', align='edge', edgecolor='navy')\n",
    "plt.xlim(-100, 5000)\n",
    "plt.xlabel('Number of Hits')\n",
    "plt.ylabel('Number of Events')\n",
    "plt.title('Histogram of Hits per Event')"
   ]
  },
  {
   "cell_type": "code",
   "execution_count": 17,
   "id": "dd41415d",
   "metadata": {},
   "outputs": [
    {
     "data": {
      "image/png": "[encoded data removed]",
      "text/plain": [
       "<Figure size 432x288 with 1 Axes>"
      ]
     },
     "metadata": {
      "needs_background": "light"
     },
     "output_type": "display_data"
    },
    {
     "name": "stdout",
     "output_type": "stream",
     "text": [
      "[   0    1    2 ... 1797 1798 1799]\n"
     ]
    }
   ],
   "source": [
    "values = tree[\"event_number\"].array(library=\"np\")  # e.g., \"eventID\"\n",
    "# Plot a histogram\n",
    "plt.hist(values, bins=15, edgecolor=\"black\")\n",
    "plt.xlabel(\"branch\")\n",
    "plt.ylabel(\"Frequency\")\n",
    "plt.grid(True)\n",
    "plt.text(0.95, 0.95, f\"Events: {total_events}\", \n",
    "         horizontalalignment='right', verticalalignment='top',\n",
    "         transform=plt.gca().transAxes, fontsize=10, bbox=dict(facecolor='white', alpha=0.8))\n",
    "plt.title(\"Partition 1\")\n",
    "#plt.tight_layout()\n",
    "plt.show()\n",
    "#plt.savefig(\"Plots_histograms/P1/window_time.png\", facecolor='white')\n",
    "print(values)\n"
   ]
  },
  {
   "cell_type": "code",
   "execution_count": 18,
   "id": "b42d1b7e",
   "metadata": {},
   "outputs": [
    {
     "name": "stdout",
     "output_type": "stream",
     "text": [
      "window_time: double\n",
      "start_counter: unknown\n",
      "run_id: int32_t\n",
      "sub_run_id: int32_t\n",
      "spill_counter: int32_t\n",
      "event_number: int32_t\n",
      "readout_number: int32_t\n",
      "trigger_types: std::vector<int32_t>\n",
      "trigger_times: std::vector<double>\n",
      "led_gains: std::vector<float>\n",
      "led_dacsettings: std::vector<float>\n",
      "led_ids: std::vector<int32_t>\n",
      "led_card_ids: std::vector<int32_t>\n",
      "led_slot_numbers: std::vector<int32_t>\n",
      "led_event_types: std::vector<int32_t>\n",
      "led_types: std::vector<int32_t>\n",
      "led_sequence_numbers: std::vector<int32_t>\n",
      "led_counters: std::vector<int32_t>\n",
      "hit_mpmt_card_ids: std::vector<int32_t>\n",
      "hit_pmt_channel_ids: std::vector<int32_t>\n",
      "hit_mpmt_slot_ids: std::vector<int32_t>\n",
      "hit_pmt_position_ids: std::vector<int32_t>\n",
      "hit_pmt_charges: std::vector<float>\n",
      "hit_pmt_times: std::vector<double>\n",
      "pmt_waveform_mpmt_card_ids: std::vector<int32_t>\n",
      "pmt_waveform_pmt_channel_ids: std::vector<int32_t>\n",
      "pmt_waveform_mpmt_slot_ids: std::vector<int32_t>\n",
      "pmt_waveform_pmt_position_ids: std::vector<int32_t>\n",
      "pmt_waveform_times: std::vector<double>\n",
      "pmt_waveforms: std::vector<std::vector<double>>\n",
      "beamline_pmt_qdc_charges: std::vector<float>\n",
      "beamline_pmt_tdc_times: std::vector<float>\n",
      "beamline_pmt_qdc_ids: std::vector<int32_t>\n",
      "beamline_pmt_tdc_ids: std::vector<int32_t>\n",
      "hit_pmt_calibrated_times: std::vector<double>\n",
      "hit_pmt_has_time_constant: std::vector<bool>\n"
     ]
    }
   ],
   "source": [
    "typenames_dict = tree.typenames()\n",
    "\n",
    "for branch_name, type_str in typenames_dict.items():\n",
    "    print(f\"{branch_name}: {type_str}\")"
   ]
  },
  {
   "cell_type": "code",
   "execution_count": 22,
   "id": "c6ad7821",
   "metadata": {},
   "outputs": [],
   "source": [
    "times_branch = tree[\"hit_pmt_calibrated_times\"].array(library=\"np\")\n",
    "event_number_branch = tree[\"event_number\"].array(library=\"np\")\n",
    "\n",
    "range_hits = 1500\n",
    "times_array = np.arange(0, 270000+1, range_hits, dtype=int)\n",
    "nbins = len(times_array) \n",
    "nHits = np.zeros((tree.num_entries, nbins))\n",
    "\n",
    "for times, event_number in zip(times_branch, event_number_branch):\n",
    "\n",
    "    hist, _ = np.histogram(times, bins=nbins, range=(0, 270000))  # Create histogram with specified bins\n",
    "\n",
    "    nHits[event_number, :] = hist"
   ]
  },
  {
   "cell_type": "code",
   "execution_count": 23,
   "id": "2b785fa5",
   "metadata": {},
   "outputs": [
    {
     "data": {
      "text/plain": [
       "Text(0.5, 0, 'Tiempo (ns)')"
      ]
     },
     "execution_count": 23,
     "metadata": {},
     "output_type": "execute_result"
    },
    {
     "data": {
      "image/png": "[encoded data removed]",
      "text/plain": [
       "<Figure size 720x360 with 1 Axes>"
      ]
     },
     "metadata": {
      "needs_background": "light"
     },
     "output_type": "display_data"
    }
   ],
   "source": [
    "#PARA PLOTEAR CUALQUIER EVENTO\n",
    "plt.figure(figsize=(10, 5))\n",
    "plt.bar(times_array, nHits[0,::], width=range_hits)\n",
    "plt.ylabel('Número de Eventos')\n",
    "plt.xlabel('Tiempo (ns)')\n",
    "#plt.savefig(\"ejemplo_prompt.png\")\n",
    "#plt.show()"
   ]
  },
  {
   "cell_type": "code",
   "execution_count": 9,
   "id": "8a6e7b39",
   "metadata": {},
   "outputs": [
    {
     "name": "stdout",
     "output_type": "stream",
     "text": [
      "Max value: 11.0 at index 56\n",
      "Neighbors: [ 6.  4. 11.  4. 10.]\n"
     ]
    }
   ],
   "source": [
    "# Example array\n",
    "arr = nHits[435,::]\n",
    "\n",
    "# Find index of max\n",
    "max_idx = np.argmax(arr)\n",
    "max_val = arr[max_idx]\n",
    "\n",
    "# Define how many neighbors on each side you want\n",
    "window = 2  # gives you 5 total: [i-2, i-1, i, i+1, i+2]\n",
    "\n",
    "# Handle edges\n",
    "start = max(0, max_idx - window)\n",
    "end = min(len(arr), max_idx + window + 1)\n",
    "\n",
    "# Extract neighbors\n",
    "neighbors = arr[start:end]\n",
    "\n",
    "print(f\"Max value: {max_val} at index {max_idx}\")\n",
    "print(f\"Neighbors: {neighbors}\")\n"
   ]
  },
  {
   "cell_type": "code",
   "execution_count": 10,
   "id": "93208c81",
   "metadata": {},
   "outputs": [],
   "source": [
    "\n",
    "df_nHits = pd.DataFrame(nHits, columns=[str(t) for t in times_array])\n",
    "df_nHits.insert(0, \"event_number\", event_number_branch)\n",
    "df_nHits.to_hdf(\"/home/cgarcia_2002/nHits_count/dataFrames_nHits/Calibrated/nHits_DataFrame_P0.h5\", key=\"df\", mode=\"w\")\n"
   ]
  },
  {
   "cell_type": "code",
   "execution_count": 11,
   "id": "56b0b3a5",
   "metadata": {},
   "outputs": [
    {
     "data": {
      "image/png": "[encoded data removed]",
      "text/plain": [
       "<Figure size 432x288 with 1 Axes>"
      ]
     },
     "metadata": {
      "needs_background": "light"
     },
     "output_type": "display_data"
    },
    {
     "name": "stdout",
     "output_type": "stream",
     "text": [
      "nHits: [[2. 0. 1. 0. 0. 0. 1.]]\n",
      "times_array: [   0 1500 3000 4500 6000 7500 9000]\n"
     ]
    }
   ],
   "source": [
    "# Datos de ejemplo\n",
    "times_branch = np.array([[0, 1000, 3000, 8000]])\n",
    "event_number_branch = [0]\n",
    "\n",
    "range_hits = 1500  # Tamaño del bin\n",
    "times_array = np.arange(0, 9000+1, range_hits, dtype=int)\n",
    "\n",
    "# Preasignamos matriz de hits\n",
    "nHits = np.zeros((1, len(times_array)))\n",
    "\n",
    "# Loop por evento\n",
    "for event, event_number in zip(times_branch, event_number_branch):\n",
    "    histogram, _ = np.histogram(event, bins=len(times_array), range=(0, 9000))  # Crear histograma con los bins especificados\n",
    "    nHits[event_number] = histogram\n",
    "\n",
    "# Visualización\n",
    "plt.figure()\n",
    "plt.bar(times_array, nHits[0], width=1500, align='edge', edgecolor='navy')\n",
    "plt.xlabel(\"Tiempo (ns)\")\n",
    "plt.ylabel(\"nHits por bin de 1500 ns\")\n",
    "plt.title(\"Distribución de hits por bin\")\n",
    "plt.grid(True)\n",
    "plt.show()\n",
    "\n",
    "# Imprimir resultados\n",
    "print(\"nHits:\", nHits)\n",
    "print(\"times_array:\", times_array)\n"
   ]
  }
 ],
 "metadata": {
  "kernelspec": {
   "display_name": "env_WCTE",
   "language": "python",
   "name": "python3"
  },
  "language_info": {
   "codemirror_mode": {
    "name": "ipython",
    "version": 3
   },
   "file_extension": ".py",
   "mimetype": "text/x-python",
   "name": "python",
   "nbconvert_exporter": "python",
   "pygments_lexer": "ipython3",
   "version": "3.6.8"
  }
 },
 "nbformat": 4,
 "nbformat_minor": 5
}
