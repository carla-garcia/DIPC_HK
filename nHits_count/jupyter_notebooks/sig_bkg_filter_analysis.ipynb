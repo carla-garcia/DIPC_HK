{
 "cells": [
  {
   "cell_type": "code",
   "execution_count": 1,
   "id": "f67e0977",
   "metadata": {},
   "outputs": [
    {
     "data": {
      "text/plain": [
       "<module 'functions_spills' from '/home/cgarcia_2002/nHits_count/functions_spills.py'>"
      ]
     },
     "execution_count": 1,
     "metadata": {},
     "output_type": "execute_result"
    }
   ],
   "source": [
    "import uproot\n",
    "import numpy as np\n",
    "import matplotlib.pyplot as plt\n",
    "import pandas as pd\n",
    "import sys\n",
    "sys.path.append(\"/home/cgarcia_2002/nHits_count\")\n",
    "\n",
    "import functions_nHits  # Importa la función que necesitas\n",
    "import importlib\n",
    "import functions_spills\n",
    "\n",
    "importlib.reload(functions_nHits)\n",
    "importlib.reload(functions_spills)\n",
    "\n"
   ]
  },
  {
   "cell_type": "code",
   "execution_count": 2,
   "id": "fd948c10",
   "metadata": {},
   "outputs": [],
   "source": [
    "\n",
    "root_file_path = \"/data/cgarcia_2002/WCTE/data/2385_calib_time/WCTE_offline_R2385S0P0.root\"  #signal\n",
    "\n",
    "# Open the ROOT file and get the TTree\n",
    "file = uproot.open(root_file_path)\n",
    "\n",
    "tree_sig = file[\"WCTEReadoutWindows\"]  \n",
    "\n",
    "\n",
    "#DOWNLOAD INFO OF THE TREE\n",
    "times_branch = tree_sig[\"hit_pmt_calibrated_times\"].array(library=\"np\")\n",
    "charge_branch = tree_sig[\"hit_pmt_charges\"].array(library=\"np\")\n",
    "event_number_branch_sig = tree_sig[\"event_number\"].array(library=\"np\")\n",
    "\n",
    "mpmt_id_branch = tree_sig[\"hit_mpmt_card_ids\"].array(library=\"np\")\n",
    "\n",
    "times_branch_sorted = []\n",
    "charge_branch_sorted = []\n",
    "mpmt_id_branch_sorted = []\n",
    "\n",
    "for times_evt, charges_evt, mpmt_evt in zip(times_branch, charge_branch, mpmt_id_branch):\n",
    "    idx_sorted = np.argsort(times_evt)  # índice de orden\n",
    "    times_branch_sorted.append(times_evt[idx_sorted])\n",
    "    charge_branch_sorted.append(charges_evt[idx_sorted])\n",
    "    mpmt_id_branch_sorted.append(mpmt_evt[idx_sorted])\n"
   ]
  },
  {
   "cell_type": "code",
   "execution_count": null,
   "id": "c74bc12c",
   "metadata": {},
   "outputs": [
    {
     "name": "stdout",
     "output_type": "stream",
     "text": [
      "Event 84: spill_ChargeTT applied 2 times\n",
      "Event 89: spill_ChargeTT applied 2 times\n",
      "Event 103: spill_ChargeTT applied 2 times\n",
      "Event 277: spill_ChargeTT applied 2 times\n",
      "Event 323: spill_ChargeTT applied 2 times\n",
      "Event 533: spill_ChargeTT applied 2 times\n",
      "Event 846: spill_ChargeTT applied 2 times\n",
      "Event 1093: spill_ChargeTT applied 2 times\n"
     ]
    }
   ],
   "source": [
    "times_FilterSpills_nHits, charge_FilterSpills_ChargeTT, spills_list = functions_spills.repeat_spills_Charge(event_number_branch_sig, times_branch_sorted, charge_branch_sorted)\n",
    "#times_FilterSpills_nHits, spills_list2 = functions_spills.repeat_spills_nHits(event_number_branch_sig, times_branch_sorted)\n"
   ]
  },
  {
   "cell_type": "code",
   "execution_count": null,
   "id": "a8416e36",
   "metadata": {},
   "outputs": [],
   "source": [
    "########################################## bkg download info\n",
    "root_file_path = \"/data/cgarcia_2002/WCTE/data/2384_calib_time/WCTE_offline_R2384S0P0.root\" #bkg\n",
    "\n",
    "# Open the ROOT file and get the TTree\n",
    "file = uproot.open(root_file_path)\n",
    "\n",
    "tree_bkg = file[\"WCTEReadoutWindows\"]  \n",
    "\n",
    "#DOWNLOAD INFO OF THE TREE\n",
    "times_branch = tree_bkg[\"hit_pmt_calibrated_times\"].array(library=\"np\")\n",
    "charge_branch = tree_bkg[\"hit_pmt_charges\"].array(library=\"np\")\n",
    "event_number_branch_bkg = tree_bkg[\"event_number\"].array(library=\"np\")\n",
    "\n",
    "mpmt_id_branch = tree_bkg[\"hit_mpmt_card_ids\"].array(library=\"np\")\n",
    "\n",
    "times_branch_sorted = []\n",
    "charge_branch_sorted = []\n",
    "mpmt_id_branch_sorted = []\n",
    "\n",
    "for times_evt, charges_evt, mpmt_evt in zip(times_branch, charge_branch, mpmt_id_branch):\n",
    "    idx_sorted = np.argsort(times_evt)  # índice de orden\n",
    "    times_branch_sorted.append(times_evt[idx_sorted])\n",
    "    charge_branch_sorted.append(charges_evt[idx_sorted])\n",
    "    mpmt_id_branch_sorted.append(mpmt_evt[idx_sorted])"
   ]
  },
  {
   "cell_type": "code",
   "execution_count": null,
   "id": "26b4fa75",
   "metadata": {},
   "outputs": [
    {
     "name": "stdout",
     "output_type": "stream",
     "text": [
      "Event 161: spill_ChargeTT applied 2 times\n",
      "Event 670: spill_ChargeTT applied 2 times\n",
      "Event 777: spill_ChargeTT applied 2 times\n",
      "Event 836: spill_ChargeTT applied 2 times\n",
      "Event 1400: spill_ChargeTT applied 2 times\n",
      "Event 1446: spill_ChargeTT applied 2 times\n"
     ]
    }
   ],
   "source": [
    "\n",
    "times_FilterSpills_nHits_bkg, charge_FilterSpills_ChargeTT_bkg, spills_list_bkg = functions_spills.repeat_spills_Charge(event_number_branch_bkg, times_branch_sorted, charge_branch_sorted)\n",
    "#times_FilterSpills_nHits_bkg, spills_list2_bkg = functions_spills.repeat_spills_nHits(event_number_branch_bkg, times_branch_sorted)\n"
   ]
  },
  {
   "cell_type": "code",
   "execution_count": null,
   "id": "fcf1252e",
   "metadata": {},
   "outputs": [],
   "source": [
    "###################################\n",
    "bin_hits = 4000  #dividing windows along 270000 ns\n",
    "times_array = np.arange(0, 270000+1, bin_hits, dtype=int)\n",
    "\n",
    "nHits_bkg = np.zeros((tree_bkg.num_entries, len(times_array)))\n",
    "nHits_sig = np.zeros((tree_sig.num_entries, len(times_array)))\n",
    "\n",
    "for times, event_number in zip(times_FilterSpills_nHits, event_number_branch_sig):\n",
    "\n",
    "    nHits_sig[event_number, :] = functions_nHits.count_nHits(times, bin_hits, nHits_sig[event_number, :])\n",
    "\n",
    "\n",
    "for times, event_number in zip(times_FilterSpills_nHits_bkg, event_number_branch_bkg):\n",
    "\n",
    "    nHits_bkg[event_number, :] = functions_nHits.count_nHits(times, bin_hits, nHits_bkg[event_number, :])\n"
   ]
  },
  {
   "cell_type": "code",
   "execution_count": null,
   "id": "61d04c21",
   "metadata": {},
   "outputs": [],
   "source": [
    "\n",
    "for times, event_number in zip(times_FilterSpills_nHits_bkg, event_number_branch_bkg):\n",
    "\n",
    "    nHits_bkg[event_number, :] = functions_nHits.count_nHits(times, bin_hits, nHits_bkg[event_number, :])\n"
   ]
  },
  {
   "cell_type": "code",
   "execution_count": 7,
   "id": "9f0a35f4",
   "metadata": {},
   "outputs": [],
   "source": [
    "\n",
    "##################################\n",
    "\n",
    "bin_hist = 50\n",
    "\n",
    "hist_nHits_sig = np.zeros(int(5000/bin_hist))\n",
    "hist_nHits_bkg = np.zeros(int(5000/bin_hist))\n",
    "\n",
    "\n",
    "for event in event_number_branch_sig:\n",
    "    hist_nHits_sig = functions_nHits.count_nHits(nHits_sig[event, :], bin_hist, hist_nHits_sig)\n",
    "\n",
    "for event in event_number_branch_bkg:\n",
    "    hist_nHits_bkg = functions_nHits.count_nHits(nHits_bkg[event, :], bin_hist, hist_nHits_bkg)\n"
   ]
  },
  {
   "cell_type": "code",
   "execution_count": 8,
   "id": "daa3cc09",
   "metadata": {},
   "outputs": [
    {
     "data": {
      "text/plain": [
       "(0.0, 500.0)"
      ]
     },
     "execution_count": 8,
     "metadata": {},
     "output_type": "execute_result"
    },
    {
     "data": {
      "image/png": "[encoded data removed]",
      "text/plain": [
       "<Figure size 720x432 with 1 Axes>"
      ]
     },
     "metadata": {
      "needs_background": "light"
     },
     "output_type": "display_data"
    }
   ],
   "source": [
    "\n",
    "##########################\n",
    "\n",
    "plt.figure(figsize=(10, 6))\n",
    "plt.plot(np.arange(0, 5000, bin_hist), hist_nHits_bkg/(len(times_FilterSpills_nHits_bkg)*(270000/bin_hits)), label='Background', color='red')\n",
    "plt.plot(np.arange(0, 5000, bin_hist), hist_nHits_sig/(len(times_FilterSpills_nHits)*(270000/bin_hits)), label='Signal', color='blue')\n",
    "plt.xlabel('Number of Hits')\n",
    "plt.ylabel(f'Normalized PDF nºhits in {bin_hits} ns windows')\n",
    "plt.legend()\n",
    "plt.yscale('log')\n",
    "plt.xlim(0, 500)\n"
   ]
  }
 ],
 "metadata": {
  "kernelspec": {
   "display_name": "env_WCTE",
   "language": "python",
   "name": "python3"
  },
  "language_info": {
   "codemirror_mode": {
    "name": "ipython",
    "version": 3
   },
   "file_extension": ".py",
   "mimetype": "text/x-python",
   "name": "python",
   "nbconvert_exporter": "python",
   "pygments_lexer": "ipython3",
   "version": "3.6.8"
  }
 },
 "nbformat": 4,
 "nbformat_minor": 5
}
