{
 "cells": [
  {
   "cell_type": "code",
   "execution_count": 1,
   "id": "c918e141",
   "metadata": {},
   "outputs": [
    {
     "data": {
      "text/plain": [
       "<module 'functions_nHits' from '/home/cgarcia_2002/nHits_count/functions_nHits.py'>"
      ]
     },
     "execution_count": 1,
     "metadata": {},
     "output_type": "execute_result"
    }
   ],
   "source": [
    "import uproot\n",
    "import numpy as np\n",
    "import matplotlib.pyplot as plt\n",
    "import pandas as pd\n",
    "import sys\n",
    "sys.path.append(\"/home/cgarcia_2002/nHits_count\")\n",
    "\n",
    "import functions_nHits  # Importa la función que necesitas\n",
    "import importlib\n",
    "\n",
    "importlib.reload(functions_nHits)"
   ]
  },
  {
   "cell_type": "code",
   "execution_count": 2,
   "id": "93e66599",
   "metadata": {},
   "outputs": [],
   "source": [
    "root_file_path = \"/data/cgarcia_2002/WCTE/data/2384_calib_time/WCTE_offline_R2384S0P0.root\"\n",
    "#root_file_path = \"/data/cgarcia_2002/WCTE/data/2385_calib_time/WCTE_offline_R2385S0P2.root\"\n",
    "# Open the ROOT file and get the TTree\n",
    "file = uproot.open(root_file_path)\n",
    "\n",
    "tree = file[\"WCTEReadoutWindows\"]  \n",
    "#tree.show()"
   ]
  },
  {
   "cell_type": "code",
   "execution_count": 4,
   "id": "a45a06c4",
   "metadata": {},
   "outputs": [],
   "source": [
    "times_branch = tree[\"hit_pmt_calibrated_times\"].array(library=\"np\")\n",
    "event_number_branch = tree[\"event_number\"].array(library=\"np\")\n",
    "\n",
    "times_branch = tree[\"hit_pmt_calibrated_times\"].array(library=\"np\")[0:1]\n",
    "event_number_branch = tree[\"event_number\"].array(library=\"np\")[0:1]\n",
    "\n",
    "range_hits = 10\n",
    "times_array = np.arange(0, 271000+1, range_hits, dtype=int)\n",
    "nHits = np.zeros((len(event_number_branch), len(times_array)))\n",
    "\n",
    "for times, event_number in zip(times_branch, event_number_branch):\n",
    "\n",
    "    nHits[event_number, :] = functions_nHits.count_nHits(times, range_hits, nHits[event_number, :])"
   ]
  },
  {
   "cell_type": "code",
   "execution_count": 5,
   "id": "eacdcdf6",
   "metadata": {},
   "outputs": [
    {
     "name": "stdout",
     "output_type": "stream",
     "text": [
      "nHits shape: (1, 27101)\n",
      "nHits: [[0. 0. 0. ... 0. 0. 0.]]\n",
      "[0]\n"
     ]
    }
   ],
   "source": [
    "print(\"nHits shape:\", nHits.shape)\n",
    "print(\"nHits:\", nHits)\n",
    "print(event_number_branch)"
   ]
  },
  {
   "cell_type": "code",
   "execution_count": 6,
   "id": "d40d5678",
   "metadata": {},
   "outputs": [],
   "source": [
    "df_nHits = pd.DataFrame(nHits, columns=[str(t) for t in times_array])\n",
    "df_nHits.insert(0, \"event_number\", event_number_branch)"
   ]
  },
  {
   "cell_type": "code",
   "execution_count": 7,
   "id": "fc78ff3b",
   "metadata": {},
   "outputs": [],
   "source": [
    "# Crear un nuevo DataFrame con la suma hacia la derecha\n",
    "df_SumWindow = pd.DataFrame()\n",
    "# Excluir la columna \"event_number\"\n",
    "only_counts = df_nHits.drop(columns=\"event_number\")\n",
    "\n",
    "# Ahora haces bien el sliding window\n",
    "for i in range(len(only_counts.columns) - 4):\n",
    "    col_name = only_counts.columns[i]\n",
    "    sum_window = only_counts.iloc[:, i:i+5].sum(axis=1)\n",
    "    df_SumWindow[col_name] = sum_window\n",
    "\n",
    "    \n",
    " #no es dificil añadir que si pasa el threshold guarde el evento y tiempo y no cuente las siguientes ventanas\n"
   ]
  },
  {
   "cell_type": "code",
   "execution_count": 8,
   "id": "b87f07c0",
   "metadata": {},
   "outputs": [
    {
     "name": "stdout",
     "output_type": "stream",
     "text": [
      "Max value: 497.0\n",
      "Row index: 0\n",
      "Column name: 222100\n"
     ]
    },
    {
     "data": {
      "image/png": "[encoded data removed]",
      "text/plain": [
       "<Figure size 576x288 with 1 Axes>"
      ]
     },
     "metadata": {
      "needs_background": "light"
     },
     "output_type": "display_data"
    }
   ],
   "source": [
    "max_value = df_SumWindow.max(axis=1).max()  # Maximum value in the whole DataFrame\n",
    "idx_row = df_SumWindow.max(axis=1).idxmax()  # Row index of the maximum value\n",
    "col_name = df_SumWindow.loc[idx_row].idxmax()  # Column name of the maximum value in that row\n",
    "\n",
    "print(\"Max value:\", max_value)\n",
    "print(\"Row index:\", idx_row)\n",
    "print(\"Column name:\", col_name)\n",
    "\n",
    "# Selecciona la columna inicial y las 10 siguientes\n",
    "col_start = 225110\n",
    "col_names = [str(col_start + 10*i) for i in range(11)]\n",
    "\n",
    "# Selecciona los datos (por ejemplo, de la primera fila)\n",
    "row = df_nHits.loc[0, col_names]\n",
    "\n",
    "# Haz el plot\n",
    "plt.figure(figsize=(8, 4))\n",
    "plt.bar([int(c) for c in col_names], row.values, width=10, color='blue', align='edge', edgecolor='navy')\n",
    "plt.xlabel('Tiempo (ns)')\n",
    "plt.ylabel('Número de hits')\n",
    "plt.title('Hits en ventanas de 10 ns')\n",
    "plt.grid(True)\n",
    "plt.show()"
   ]
  },
  {
   "cell_type": "code",
   "execution_count": 9,
   "id": "6ee84ff3",
   "metadata": {},
   "outputs": [],
   "source": [
    "threshold = 5\n",
    "trigger_times = {}\n",
    "jump_bins = 10\n",
    "for idx, row in df_SumWindow.iterrows():\n",
    "    i = 0\n",
    "    trigger_times[idx] = []  # inicializa la lista para este evento\n",
    "    while i < len(row):\n",
    "        if row.iloc[i] >= threshold:\n",
    "            # Guardamos el tiempo correspondiente a este trigger\n",
    "            trigger_time = row.index[i]\n",
    "            trigger_times[idx].append(trigger_time)\n",
    "           \n",
    "            \"\"\"# Eliminamos los siguientes jump_bins columnas poniéndolas a 0\n",
    "            end = min(i + jump_bins, len(row))\n",
    "            row.iloc[i:end] = 0\"\"\"\n",
    "\n",
    "            i += jump_bins  # saltamos\n",
    "        else:\n",
    "            i += 1"
   ]
  },
  {
   "cell_type": "code",
   "execution_count": 10,
   "id": "77ac9e19",
   "metadata": {},
   "outputs": [
    {
     "name": "stdout",
     "output_type": "stream",
     "text": [
      "{0: ['222060', '225110']}\n",
      "Evento 0, Trigger time: 222060\n"
     ]
    },
    {
     "data": {
      "image/png": "[encoded data removed]",
      "text/plain": [
       "<Figure size 576x288 with 1 Axes>"
      ]
     },
     "metadata": {
      "needs_background": "light"
     },
     "output_type": "display_data"
    },
    {
     "name": "stdout",
     "output_type": "stream",
     "text": [
      "Evento 0, Trigger time: 225110\n"
     ]
    },
    {
     "data": {
      "image/png": "[encoded data removed]",
      "text/plain": [
       "<Figure size 576x288 with 1 Axes>"
      ]
     },
     "metadata": {
      "needs_background": "light"
     },
     "output_type": "display_data"
    }
   ],
   "source": [
    "print(trigger_times)\n",
    "\n",
    "for event_number in trigger_times:\n",
    "    for start_time in trigger_times[event_number]:\n",
    "\n",
    "        print(f\"Evento {event_number}, Trigger time: {start_time}\")\n",
    "        selected_cols = [str(int(start_time) + 10*i) for i in range(11)]\n",
    "\n",
    "\n",
    "        # Selecciona los datos (por ejemplo, de la primera fila)\n",
    "        row = df_nHits.loc[event_number, selected_cols]\n",
    "\n",
    "        # Haz el plot\n",
    "        plt.figure(figsize=(8, 4))\n",
    "        plt.bar([int(c) for c in selected_cols], row.values, width=10, color='blue', align='edge', edgecolor='navy')\n",
    "        plt.xlabel('Tiempo (ns)')\n",
    "        plt.ylabel('Número de hits')\n",
    "        plt.title('Hits en ventanas de 10 ns')\n",
    "        plt.show()"
   ]
  },
  {
   "cell_type": "code",
   "execution_count": 11,
   "id": "46abf4c5",
   "metadata": {},
   "outputs": [],
   "source": [
    "import matplotlib\n",
    "matplotlib.use('Agg')\n",
    "import matplotlib.colors as colors\n",
    "sys.path.append(\"/home/cgarcia_2002/WCTE_event_display-main/WCTE_event_display-main\")\n",
    "\n",
    "from EventDisplay import EventDisplay"
   ]
  },
  {
   "cell_type": "code",
   "execution_count": 22,
   "id": "16d9ccb2",
   "metadata": {},
   "outputs": [
    {
     "name": "stdout",
     "output_type": "stream",
     "text": [
      "(2014,)\n"
     ]
    }
   ],
   "source": [
    "t_evento = 225110\n",
    "delta = 50\n",
    "event_id = 0\n",
    "\n",
    "# Leer datos\n",
    "times = tree[\"hit_pmt_times\"].array(library=\"np\")\n",
    "charges = tree[\"hit_pmt_charges\"].array(library=\"np\")\n",
    "slot_ids = tree[\"hit_mpmt_slot_ids\"].array(library=\"np\")\n",
    "pmt_positions = tree[\"hit_pmt_position_ids\"].array(library=\"np\")\n",
    "\n",
    "\n",
    "t = times[event_id]\n",
    "q = charges[event_id]\n",
    "slot = slot_ids[event_id]\n",
    "pos = pmt_positions[event_id]\n",
    "\n",
    "# Filtrar por tiempo cercano al evento deseado\n",
    "mask = (t > t_evento - delta) & (t < t_evento + delta)\n",
    "\n",
    "# Aplicar filtro\n",
    "t = t[mask]\n",
    "q = q[mask]\n",
    "slot = slot[mask]\n",
    "pos = pos[mask]\n",
    "\n",
    "# Combinar en canal único para EventDisplay\n",
    "channel_ids = slot * 19 + pos\n",
    "\n",
    "# ---------- VISUALIZAR EVENTO ----------\n",
    "\n",
    "# Crear instancia del EventDisplay\n",
    "eventDisplay = EventDisplay()\n",
    "eventDisplay.load_mPMT_positions('mPMT_2D_projection_angles.csv')\n",
    "eventDisplay.load_wcsim_tubeno_mapping(\"geofile_WCTE.txt\")\n",
    "\n",
    "# Procesar y graficar\n",
    "data_to_plot = eventDisplay.process_data(channel_ids, q)\n",
    "eventDisplay.plotEventDisplay(data_to_plot, color_norm=colors.Normalize(), style=\"dark_background\")\n",
    "plt.savefig(\"evento_filtrado_1.png\")\n",
    "plt.close()\n"
   ]
  },
  {
   "cell_type": "code",
   "execution_count": null,
   "id": "192d59c3",
   "metadata": {},
   "outputs": [],
   "source": []
  }
 ],
 "metadata": {
  "kernelspec": {
   "display_name": "env_WCTE",
   "language": "python",
   "name": "python3"
  },
  "language_info": {
   "codemirror_mode": {
    "name": "ipython",
    "version": 3
   },
   "file_extension": ".py",
   "mimetype": "text/x-python",
   "name": "python",
   "nbconvert_exporter": "python",
   "pygments_lexer": "ipython3",
   "version": "3.6.8"
  }
 },
 "nbformat": 4,
 "nbformat_minor": 5
}
