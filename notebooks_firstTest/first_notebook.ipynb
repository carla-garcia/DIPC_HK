{
 "cells": [
  {
   "cell_type": "code",
   "execution_count": 2,
   "id": "bff90918",
   "metadata": {},
   "outputs": [],
   "source": [
    "import uproot\n",
    "import numpy\n"
   ]
  },
  {
   "cell_type": "code",
   "execution_count": 3,
   "id": "75a1d0e1",
   "metadata": {},
   "outputs": [
    {
     "name": "stdout",
     "output_type": "stream",
     "text": [
      "name                 | typename                 | interpretation                \n",
      "---------------------+--------------------------+-------------------------------\n",
      "window_time          | double                   | AsDtype('>f8')\n",
      "start_counter        | unknown                  | <UnknownInterpretation 'non...\n",
      "run_id               | int32_t                  | AsDtype('>i4')\n",
      "sub_run_id           | int32_t                  | AsDtype('>i4')\n",
      "spill_counter        | int32_t                  | AsDtype('>i4')\n",
      "event_number         | int32_t                  | AsDtype('>i4')\n",
      "readout_number       | int32_t                  | AsDtype('>i4')\n",
      "trigger_types        | std::vector<int32_t>     | AsJagged(AsDtype('>i4'), he...\n",
      "trigger_times        | std::vector<double>      | AsJagged(AsDtype('>f8'), he...\n",
      "led_gains            | std::vector<float>       | AsJagged(AsDtype('>f4'), he...\n",
      "led_dacsettings      | std::vector<float>       | AsJagged(AsDtype('>f4'), he...\n",
      "led_ids              | std::vector<int32_t>     | AsJagged(AsDtype('>i4'), he...\n",
      "led_card_ids         | std::vector<int32_t>     | AsJagged(AsDtype('>i4'), he...\n",
      "led_slot_numbers     | std::vector<int32_t>     | AsJagged(AsDtype('>i4'), he...\n",
      "led_event_types      | std::vector<int32_t>     | AsJagged(AsDtype('>i4'), he...\n",
      "led_types            | std::vector<int32_t>     | AsJagged(AsDtype('>i4'), he...\n",
      "led_sequence_numbers | std::vector<int32_t>     | AsJagged(AsDtype('>i4'), he...\n",
      "led_counters         | std::vector<int32_t>     | AsJagged(AsDtype('>i4'), he...\n",
      "hit_mpmt_card_ids    | std::vector<int32_t>     | AsJagged(AsDtype('>i4'), he...\n",
      "hit_pmt_channel_ids  | std::vector<int32_t>     | AsJagged(AsDtype('>i4'), he...\n",
      "hit_mpmt_slot_ids    | std::vector<int32_t>     | AsJagged(AsDtype('>i4'), he...\n",
      "hit_pmt_position_ids | std::vector<int32_t>     | AsJagged(AsDtype('>i4'), he...\n",
      "hit_pmt_charges      | std::vector<float>       | AsJagged(AsDtype('>f4'), he...\n",
      "hit_pmt_times        | std::vector<double>      | AsJagged(AsDtype('>f8'), he...\n",
      "pmt_waveform_mpmt... | std::vector<int32_t>     | AsJagged(AsDtype('>i4'), he...\n",
      "pmt_waveform_pmt_... | std::vector<int32_t>     | AsJagged(AsDtype('>i4'), he...\n",
      "pmt_waveform_mpmt... | std::vector<int32_t>     | AsJagged(AsDtype('>i4'), he...\n",
      "pmt_waveform_pmt_... | std::vector<int32_t>     | AsJagged(AsDtype('>i4'), he...\n",
      "pmt_waveform_times   | std::vector<double>      | AsJagged(AsDtype('>f8'), he...\n",
      "pmt_waveforms        | std::vector<std::vect... | AsObjects(AsVector(True, As...\n",
      "beamline_pmt_qdc_... | std::vector<float>       | AsJagged(AsDtype('>f4'), he...\n",
      "beamline_pmt_tdc_... | std::vector<float>       | AsJagged(AsDtype('>f4'), he...\n",
      "beamline_pmt_qdc_ids | std::vector<int32_t>     | AsJagged(AsDtype('>i4'), he...\n",
      "beamline_pmt_tdc_ids | std::vector<int32_t>     | AsJagged(AsDtype('>i4'), he...\n",
      "hit_pmt_calibrate... | std::vector<double>      | AsJagged(AsDtype('>f8'), he...\n",
      "hit_pmt_has_time_... | std::vector<bool>        | AsJagged(AsDtype('bool'), h...\n"
     ]
    }
   ],
   "source": [
    "root_file_path = \"/data/cgarcia_2002/WCTE/data/2384_calib_time/WCTE_offline_R2384S0P0.root\" #bkg\n",
    "\n",
    "file = uproot.open(root_file_path)\n",
    "tree = file[\"WCTEReadoutWindows\"]\n",
    "window = tree.show()\n",
    "\n"
   ]
  },
  {
   "cell_type": "code",
   "execution_count": 32,
   "id": "3726d0e4",
   "metadata": {},
   "outputs": [
    {
     "name": "stdout",
     "output_type": "stream",
     "text": [
      "19\n",
      "269957.54931640625\n"
     ]
    }
   ],
   "source": [
    "position_id = tree[\"hit_pmt_channel_ids\"].array(library=\"np\")\n",
    "times = tree[\"hit_pmt_times\"].array(library=\"np\")\n",
    "window = tree[\"window_time\"].array(library=\"np\")\n",
    "print(max(position_id[50]))\n",
    "print(max(times[0]))"
   ]
  },
  {
   "cell_type": "code",
   "execution_count": 3,
   "id": "34df3f8f",
   "metadata": {},
   "outputs": [
    {
     "name": "stdout",
     "output_type": "stream",
     "text": [
      "{'WCTEReadoutWindows;16': 'TTree', 'WCTEReadoutWindows;15': 'TTree'}\n"
     ]
    }
   ],
   "source": [
    "with uproot.open(root_file_path) as file:\n",
    "    print(file.classnames())\n"
   ]
  },
  {
   "cell_type": "code",
   "execution_count": null,
   "id": "1df9a3a3",
   "metadata": {},
   "outputs": [],
   "source": []
  }
 ],
 "metadata": {
  "kernelspec": {
   "display_name": "env_WCTE",
   "language": "python",
   "name": "python3"
  },
  "language_info": {
   "codemirror_mode": {
    "name": "ipython",
    "version": 3
   },
   "file_extension": ".py",
   "mimetype": "text/x-python",
   "name": "python",
   "nbconvert_exporter": "python",
   "pygments_lexer": "ipython3",
   "version": "3.6.8"
  }
 },
 "nbformat": 4,
 "nbformat_minor": 5
}
